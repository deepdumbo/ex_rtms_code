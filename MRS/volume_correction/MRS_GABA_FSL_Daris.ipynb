{
 "cells": [
  {
   "cell_type": "markdown",
   "metadata": {},
   "source": [
    "# MRS_GABA voxel location, overlap, segmentation"
   ]
  },
  {
   "cell_type": "markdown",
   "metadata": {},
   "source": [
    "#Go to study directory, where the data is:"
   ]
  },
  {
   "cell_type": "markdown",
   "metadata": {},
   "source": [
    "# ENTER SUBJECT CODE"
   ]
  },
  {
   "cell_type": "code",
   "execution_count": 1,
   "metadata": {
    "collapsed": false
   },
   "outputs": [
    {
     "name": "stdout",
     "output_type": "stream",
     "text": []
    }
   ],
   "source": [
    "subcode=S27_ANW"
   ]
  },
  {
   "cell_type": "code",
   "execution_count": 2,
   "metadata": {
    "collapsed": false
   },
   "outputs": [
    {
     "name": "stdout",
     "output_type": "stream",
     "text": [
      "/Volumes/LaCie/Ex_rTMS_study/Data/Active\r\n"
     ]
    }
   ],
   "source": [
    "cd /Volumes/LaCie/Ex_rTMS_study/Data/Active/\n",
    "pwd\n",
    "datadir=/Volumes/LaCie/Ex_rTMS_study/Data/Active/\n",
    "subdir=$datadir$subcode"
   ]
  },
  {
   "cell_type": "code",
   "execution_count": 3,
   "metadata": {
    "collapsed": false
   },
   "outputs": [
    {
     "name": "stdout",
     "output_type": "stream",
     "text": [
      "Chris Rorden's dcm2nii :: 1JUNE2015 32bit BSD License\r\n",
      "reading preferences file /Users/joshua_hendrikse/.dcm2nii/dcm2nii.ini\r\n",
      "Data will be exported to /Volumes/LaCie/Ex_rTMS_study/Data/Active/S27_ANW/MRI/dicom_series/pre/2_t1_mprage_sag_p2_iso_1_ADNI\r\n",
      "Validating 192 potential DICOM images.\r\n",
      "Found 192 DICOM images.\r\n",
      "Converting 192/192  volumes: 1\r\n",
      "0001.dcm->20170804_132343t1mpragesagp2iso1ADNIs002a1001.nii\r\n",
      "For slice timing correction: the slice order is ascending\r\n",
      " brightest voxel was 824: data will be saved as 16-bit signed integer.\r\n",
      "GZip...20170804_132343t1mpragesagp2iso1ADNIs002a1001.nii.gz\r\n",
      "Reorienting as /Volumes/LaCie/Ex_rTMS_study/Data/Active/S27_ANW/MRI/dicom_series/pre/2_t1_mprage_sag_p2_iso_1_ADNI/o20170804_132343t1mpragesagp2iso1ADNIs002a1001.nii.gz\r\n",
      "GZip...o20170804_132343t1mpragesagp2iso1ADNIs002a1001.nii.gz\r\n",
      "Cropping NIfTI/Analyze image /Volumes/LaCie/Ex_rTMS_study/Data/Active/S27_ANW/MRI/dicom_series/pre/2_t1_mprage_sag_p2_iso_1_ADNI/o20170804_132343t1mpragesagp2iso1ADNIs002a1001.nii.gz\r\n",
      "GZip...co20170804_132343t1mpragesagp2iso1ADNIs002a1001.nii.gz\r\n",
      "Chris Rorden's dcm2nii :: 1JUNE2015 32bit BSD License\r\n",
      "reading preferences file /Users/joshua_hendrikse/.dcm2nii/dcm2nii.ini\r\n",
      "Data will be exported to /Volumes/LaCie/Ex_rTMS_study/Data/Active/S27_ANW/MRI/dicom_series/post/2_t1_mprage_sag_p2_iso_1_ADNI\r\n",
      "Validating 192 potential DICOM images.\r\n",
      "Found 192 DICOM images.\r\n",
      "Converting 192/192  volumes: 1\r\n",
      "0001.dcm->20170811_085721t1mpragesagp2iso1ADNIs002a1001.nii\r\n",
      "For slice timing correction: the slice order is ascending\r\n",
      " brightest voxel was 794: data will be saved as 16-bit signed integer.\r\n",
      "GZip...20170811_085721t1mpragesagp2iso1ADNIs002a1001.nii.gz\r\n",
      "Reorienting as /Volumes/LaCie/Ex_rTMS_study/Data/Active/S27_ANW/MRI/dicom_series/post/2_t1_mprage_sag_p2_iso_1_ADNI/o20170811_085721t1mpragesagp2iso1ADNIs002a1001.nii.gz\r\n",
      "GZip...o20170811_085721t1mpragesagp2iso1ADNIs002a1001.nii.gz\r\n",
      "Cropping NIfTI/Analyze image /Volumes/LaCie/Ex_rTMS_study/Data/Active/S27_ANW/MRI/dicom_series/post/2_t1_mprage_sag_p2_iso_1_ADNI/o20170811_085721t1mpragesagp2iso1ADNIs002a1001.nii.gz\r\n",
      "GZip...co20170811_085721t1mpragesagp2iso1ADNIs002a1001.nii.gz\r\n"
     ]
    }
   ],
   "source": [
    "for i in {pre,post};\n",
    "do \n",
    "/Applications/dcm2nii $subdir/MRI/dicom_series/$i/*mprage*ADNI/0001.dcm\n",
    "cp $subdir/MRI/dicom_series/$i/*mprage*ADNI/2*mpragesagp2iso1ADNI*.nii.gz $subdir/MRI/t1_$i.nii.gz\n",
    "done"
   ]
  },
  {
   "cell_type": "raw",
   "metadata": {},
   "source": [
    "#T1 images were acquired in sagittal. Make them look nice in fslview ;)"
   ]
  },
  {
   "cell_type": "code",
   "execution_count": 4,
   "metadata": {
    "collapsed": false,
    "scrolled": true
   },
   "outputs": [
    {
     "name": "stdout",
     "output_type": "stream",
     "text": []
    }
   ],
   "source": [
    "fslreorient2std $subdir/MRI/t1_pre.nii.gz $subdir/MRI/t1_pre_orient\n",
    "fslreorient2std $subdir/MRI/t1_post.nii.gz $subdir/MRI/t1_post_orient"
   ]
  },
  {
   "cell_type": "raw",
   "metadata": {},
   "source": [
    "#this will run all sorts of fsl goodies (biascorr, autocrop, segment, subcort segment). TAKES A WHILE have a coffee."
   ]
  },
  {
   "cell_type": "code",
   "execution_count": 5,
   "metadata": {
    "collapsed": false
   },
   "outputs": [
    {
     "name": "stdout",
     "output_type": "stream",
     "text": [
      "Sun Oct  1 09:39:40 AEDT 2017\r\n",
      "Reorienting to standard orientation\r\n",
      "Sun Oct  1 09:40:02 AEDT 2017\r\n",
      "Automatically cropping the image\r\n",
      "Sun Oct  1 09:40:12 AEDT 2017\r\n",
      "Estimating and removing field (stage 1 - large-scale fields)\r\n",
      "Sun Oct  1 09:40:53 AEDT 2017\r\n",
      "Estimating and removing bias field (stage 2 - detailed fields)\r\n",
      "Starting Single Image Segmentation\r\n",
      "T1-weighted image\r\n",
      "Imagesize : 192 x 240 x 170\r\n",
      "Pixelsize : 1 x 1 x 1\r\n",
      "\r\n",
      "1 4.33346\r\n",
      "2 4.77068\r\n",
      "3 5.02474\r\n",
      "KMeans Iteration 0\r\n",
      "KMeans Iteration 1\r\n",
      "KMeans Iteration 2\r\n",
      "KMeans Iteration 3\r\n",
      "KMeans Iteration 4\r\n",
      "KMeans Iteration 5\r\n",
      "KMeans Iteration 6\r\n",
      "KMeans Iteration 7\r\n",
      "KMeans Iteration 8\r\n",
      "KMeans Iteration 9\r\n",
      "KMeans Iteration 10\r\n",
      "KMeans Iteration 11\r\n",
      "KMeans Iteration 12\r\n",
      "KMeans Iteration 13\r\n",
      "KMeans Iteration 14\r\n",
      "Tanaka Iteration 0 bias field 5\r\n",
      "Tanaka-inner-loop-iteration=0 MRFWeightsTotal=2.35867e+07 beta=0.02\r\n",
      "Tanaka-inner-loop-iteration=1 MRFWeightsTotal=2.38814e+07 beta=0.02\r\n",
      "Tanaka-inner-loop-iteration=2 MRFWeightsTotal=2.38926e+07 beta=0.02\r\n",
      "Tanaka-inner-loop-iteration=3 MRFWeightsTotal=2.38932e+07 beta=0.02\r\n",
      "Tanaka-inner-loop-iteration=4 MRFWeightsTotal=2.38932e+07 beta=0.02\r\n",
      " CLASS 1 MEAN 39.7781 STDDEV 54.9486 CLASS 2 MEAN 124.219 STDDEV 26.1221 CLASS 3 MEAN 148.161 STDDEV 65.3663\r\n",
      "Tanaka Iteration 1 bias field 5\r\n",
      "Tanaka-inner-loop-iteration=0 MRFWeightsTotal=2.39018e+07 beta=0.02\r\n",
      "Tanaka-inner-loop-iteration=1 MRFWeightsTotal=2.41866e+07 beta=0.02\r\n",
      "Tanaka-inner-loop-iteration=2 MRFWeightsTotal=2.41973e+07 beta=0.02\r\n",
      "Tanaka-inner-loop-iteration=3 MRFWeightsTotal=2.41978e+07 beta=0.02\r\n",
      "Tanaka-inner-loop-iteration=4 MRFWeightsTotal=2.41978e+07 beta=0.02\r\n",
      " CLASS 1 MEAN 37.6037 STDDEV 50.6675 CLASS 2 MEAN 125.653 STDDEV 23.1323 CLASS 3 MEAN 144.58 STDDEV 59.1131\r\n",
      "Tanaka Iteration 2 bias field 5\r\n",
      "Tanaka-inner-loop-iteration=0 MRFWeightsTotal=2.41208e+07 beta=0.02\r\n",
      "Tanaka-inner-loop-iteration=1 MRFWeightsTotal=2.4409e+07 beta=0.02\r\n",
      "Tanaka-inner-loop-iteration=2 MRFWeightsTotal=2.44197e+07 beta=0.02\r\n",
      "Tanaka-inner-loop-iteration=3 MRFWeightsTotal=2.44202e+07 beta=0.02\r\n",
      "Tanaka-inner-loop-iteration=4 MRFWeightsTotal=2.44202e+07 beta=0.02\r\n",
      " CLASS 1 MEAN 36.9219 STDDEV 50.1673 CLASS 2 MEAN 127.142 STDDEV 21.4242 CLASS 3 MEAN 144.016 STDDEV 58.2043\r\n",
      "Tanaka Iteration 3 bias field 5\r\n",
      "Tanaka-inner-loop-iteration=0 MRFWeightsTotal=2.42751e+07 beta=0.02\r\n",
      "Tanaka-inner-loop-iteration=1 MRFWeightsTotal=2.45703e+07 beta=0.02\r\n",
      "Tanaka-inner-loop-iteration=2 MRFWeightsTotal=2.45813e+07 beta=0.02\r\n",
      "Tanaka-inner-loop-iteration=3 MRFWeightsTotal=2.45818e+07 beta=0.02\r\n",
      "Tanaka-inner-loop-iteration=4 MRFWeightsTotal=2.45818e+07 beta=0.02\r\n",
      " CLASS 1 MEAN 36.7896 STDDEV 50.2784 CLASS 2 MEAN 128.294 STDDEV 20.2107 CLASS 3 MEAN 143.542 STDDEV 58.5234\r\n",
      "Tanaka Iteration 4 bias field 5\r\n",
      "Tanaka-inner-loop-iteration=0 MRFWeightsTotal=2.43873e+07 beta=0.02\r\n",
      "Tanaka-inner-loop-iteration=1 MRFWeightsTotal=2.46904e+07 beta=0.02\r\n",
      "Tanaka-inner-loop-iteration=2 MRFWeightsTotal=2.47017e+07 beta=0.02\r\n",
      "Tanaka-inner-loop-iteration=3 MRFWeightsTotal=2.47022e+07 beta=0.02\r\n",
      "Tanaka-inner-loop-iteration=4 MRFWeightsTotal=2.47022e+07 beta=0.02\r\n",
      " CLASS 1 MEAN 36.79 STDDEV 50.5093 CLASS 2 MEAN 129.158 STDDEV 19.2806 CLASS 3 MEAN 142.886 STDDEV 59.1935\r\n",
      "\r\n",
      " tissue 1 942671\r\n",
      " tissue 2 1.1651e+06\r\n",
      " tissue 3 1.07104e+06\r\n",
      " total tissue 3.17881e+06\r\n",
      "Starting Single Image Segmentation\r\n",
      "T1-weighted image\r\n",
      "Imagesize : 192 x 240 x 170\r\n",
      "Pixelsize : 1 x 1 x 1\r\n",
      "\r\n",
      "1 4.38624\r\n",
      "2 4.81439\r\n",
      "3 4.98893\r\n",
      "KMeans Iteration 0\r\n",
      "KMeans Iteration 1\r\n",
      "KMeans Iteration 2\r\n",
      "KMeans Iteration 3\r\n",
      "KMeans Iteration 4\r\n",
      "KMeans Iteration 5\r\n",
      "KMeans Iteration 6\r\n",
      "KMeans Iteration 7\r\n",
      "KMeans Iteration 8\r\n",
      "KMeans Iteration 9\r\n",
      "KMeans Iteration 10\r\n",
      "KMeans Iteration 11\r\n",
      "KMeans Iteration 12\r\n",
      "KMeans Iteration 13\r\n",
      "KMeans Iteration 14\r\n",
      "Tanaka Iteration 0 bias field 5\r\n",
      "Tanaka-inner-loop-iteration=0 MRFWeightsTotal=2.42674e+07 beta=0.02\r\n",
      "Tanaka-inner-loop-iteration=1 MRFWeightsTotal=2.4586e+07 beta=0.02\r\n",
      "Tanaka-inner-loop-iteration=2 MRFWeightsTotal=2.45979e+07 beta=0.02\r\n",
      "Tanaka-inner-loop-iteration=3 MRFWeightsTotal=2.45984e+07 beta=0.02\r\n",
      "Tanaka-inner-loop-iteration=4 MRFWeightsTotal=2.45984e+07 beta=0.02\r\n",
      " CLASS 1 MEAN 39.7179 STDDEV 57.3828 CLASS 2 MEAN 131.805 STDDEV 17.074 CLASS 3 MEAN 135.219 STDDEV 58.1339\r\n",
      "Tanaka Iteration 1 bias field 5\r\n",
      "Tanaka-inner-loop-iteration=0 MRFWeightsTotal=2.44387e+07 beta=0.02\r\n",
      "Tanaka-inner-loop-iteration=1 MRFWeightsTotal=2.47604e+07 beta=0.02\r\n",
      "Tanaka-inner-loop-iteration=2 MRFWeightsTotal=2.47722e+07 beta=0.02\r\n",
      "Tanaka-inner-loop-iteration=3 MRFWeightsTotal=2.47727e+07 beta=0.02\r\n",
      "Tanaka-inner-loop-iteration=4 MRFWeightsTotal=2.47727e+07 beta=0.02\r\n",
      " CLASS 1 MEAN 38.4905 STDDEV 54.087 CLASS 2 MEAN 131.893 STDDEV 16.23 CLASS 3 MEAN 134.56 STDDEV 57.3581\r\n",
      "Tanaka Iteration 2 bias field 5\r\n",
      "Tanaka-inner-loop-iteration=0 MRFWeightsTotal=2.45455e+07 beta=0.02\r\n",
      "Tanaka-inner-loop-iteration=1 MRFWeightsTotal=2.48698e+07 beta=0.02\r\n",
      "Tanaka-inner-loop-iteration=2 MRFWeightsTotal=2.48816e+07 beta=0.02\r\n",
      "Tanaka-inner-loop-iteration=3 MRFWeightsTotal=2.48821e+07 beta=0.02\r\n",
      "Tanaka-inner-loop-iteration=4 MRFWeightsTotal=2.48821e+07 beta=0.02\r\n",
      " CLASS 1 MEAN 38.0033 STDDEV 53.2906 CLASS 2 MEAN 132.193 STDDEV 15.7284 CLASS 3 MEAN 134.646 STDDEV 57.472\r\n",
      "Tanaka Iteration 3 bias field 5\r\n",
      "Tanaka-inner-loop-iteration=0 MRFWeightsTotal=2.46123e+07 beta=0.02\r\n",
      "Tanaka-inner-loop-iteration=1 MRFWeightsTotal=2.49385e+07 beta=0.02\r\n",
      "Tanaka-inner-loop-iteration=2 MRFWeightsTotal=2.49502e+07 beta=0.02\r\n",
      "Tanaka-inner-loop-iteration=3 MRFWeightsTotal=2.49507e+07 beta=0.02\r\n",
      "Tanaka-inner-loop-iteration=4 MRFWeightsTotal=2.49507e+07 beta=0.02\r\n",
      " CLASS 1 MEAN 37.8268 STDDEV 53.0115 CLASS 2 MEAN 132.469 STDDEV 15.3837 CLASS 3 MEAN 134.63 STDDEV 57.602\r\n",
      "Tanaka Iteration 4 bias field 5\r\n",
      "Tanaka-inner-loop-iteration=0 MRFWeightsTotal=2.46548e+07 beta=0.02\r\n",
      "Tanaka-inner-loop-iteration=1 MRFWeightsTotal=2.49823e+07 beta=0.02\r\n",
      "Tanaka-inner-loop-iteration=2 MRFWeightsTotal=2.4994e+07 beta=0.02\r\n",
      "Tanaka-inner-loop-iteration=3 MRFWeightsTotal=2.49945e+07 beta=0.02\r\n",
      "Tanaka-inner-loop-iteration=4 MRFWeightsTotal=2.49945e+07 beta=0.02\r\n",
      " CLASS 1 MEAN 37.7745 STDDEV 52.9597 CLASS 2 MEAN 132.7 STDDEV 15.13 CLASS 3 MEAN 134.524 STDDEV 57.6722\r\n",
      "\r\n",
      " tissue 1 935359\r\n",
      " tissue 2 1.14967e+06\r\n",
      " tissue 3 1.09378e+06\r\n",
      " total tissue 3.17881e+06\r\n",
      "Starting Single Image Segmentation\r\n",
      "T1-weighted image\r\n",
      "Imagesize : 192 x 240 x 170\r\n",
      "Pixelsize : 1 x 1 x 1\r\n",
      "\r\n",
      "1 4.39085\r\n",
      "2 4.82448\r\n",
      "3 4.9772\r\n",
      "KMeans Iteration 0\r\n",
      "KMeans Iteration 1\r\n",
      "KMeans Iteration 2\r\n",
      "KMeans Iteration 3\r\n",
      "KMeans Iteration 4\r\n",
      "KMeans Iteration 5\r\n",
      "KMeans Iteration 6\r\n",
      "KMeans Iteration 7\r\n",
      "KMeans Iteration 8\r\n",
      "KMeans Iteration 9\r\n",
      "KMeans Iteration 10\r\n",
      "KMeans Iteration 11\r\n",
      "KMeans Iteration 12\r\n",
      "KMeans Iteration 13\r\n",
      "KMeans Iteration 14\r\n",
      "Tanaka Iteration 0 bias field 5\r\n",
      "Tanaka-inner-loop-iteration=0 MRFWeightsTotal=2.44561e+07 beta=0.02\r\n",
      "Tanaka-inner-loop-iteration=1 MRFWeightsTotal=2.4778e+07 beta=0.02\r\n",
      "Tanaka-inner-loop-iteration=2 MRFWeightsTotal=2.47896e+07 beta=0.02\r\n",
      "Tanaka-inner-loop-iteration=3 MRFWeightsTotal=2.47901e+07 beta=0.02\r\n",
      "Tanaka-inner-loop-iteration=4 MRFWeightsTotal=2.47901e+07 beta=0.02\r\n",
      " CLASS 1 MEAN 40.3246 STDDEV 58.4517 CLASS 2 MEAN 133.226 STDDEV 14.8163 CLASS 3 MEAN 131.86 STDDEV 55.2819\r\n",
      "Tanaka Iteration 1 bias field 5\r\n",
      "Tanaka-inner-loop-iteration=0 MRFWeightsTotal=2.4561e+07 beta=0.02\r\n",
      "Tanaka-inner-loop-iteration=1 MRFWeightsTotal=2.48847e+07 beta=0.02\r\n",
      "Tanaka-inner-loop-iteration=2 MRFWeightsTotal=2.48963e+07 beta=0.02\r\n",
      "Tanaka-inner-loop-iteration=3 MRFWeightsTotal=2.48967e+07 beta=0.02\r\n",
      "Tanaka-inner-loop-iteration=4 MRFWeightsTotal=2.48968e+07 beta=0.02\r\n",
      " CLASS 1 MEAN 39.2633 STDDEV 55.5105 CLASS 2 MEAN 133.227 STDDEV 14.3977 CLASS 3 MEAN 131.385 STDDEV 54.7754\r\n",
      "Tanaka Iteration 2 bias field 5\r\n",
      "Tanaka-inner-loop-iteration=0 MRFWeightsTotal=2.46242e+07 beta=0.02\r\n",
      "Tanaka-inner-loop-iteration=1 MRFWeightsTotal=2.49491e+07 beta=0.02\r\n",
      "Tanaka-inner-loop-iteration=2 MRFWeightsTotal=2.49606e+07 beta=0.02\r\n",
      "Tanaka-inner-loop-iteration=3 MRFWeightsTotal=2.49611e+07 beta=0.02\r\n",
      "Tanaka-inner-loop-iteration=4 MRFWeightsTotal=2.49611e+07 beta=0.02\r\n",
      " CLASS 1 MEAN 38.8633 STDDEV 54.7786 CLASS 2 MEAN 133.385 STDDEV 14.1523 CLASS 3 MEAN 131.512 STDDEV 54.8505\r\n",
      "Tanaka Iteration 3 bias field 5\r\n",
      "Tanaka-inner-loop-iteration=0 MRFWeightsTotal=2.46637e+07 beta=0.02\r\n",
      "Tanaka-inner-loop-iteration=1 MRFWeightsTotal=2.49895e+07 beta=0.02\r\n",
      "Tanaka-inner-loop-iteration=2 MRFWeightsTotal=2.5001e+07 beta=0.02\r\n",
      "Tanaka-inner-loop-iteration=3 MRFWeightsTotal=2.50015e+07 beta=0.02\r\n",
      "Tanaka-inner-loop-iteration=4 MRFWeightsTotal=2.50015e+07 beta=0.02\r\n",
      " CLASS 1 MEAN 38.7073 STDDEV 54.4713 CLASS 2 MEAN 133.536 STDDEV 13.9821 CLASS 3 MEAN 131.575 STDDEV 54.915\r\n",
      "Tanaka Iteration 4 bias field 5\r\n",
      "Tanaka-inner-loop-iteration=0 MRFWeightsTotal=2.46888e+07 beta=0.02\r\n",
      "Tanaka-inner-loop-iteration=1 MRFWeightsTotal=2.50151e+07 beta=0.02\r\n",
      "Tanaka-inner-loop-iteration=2 MRFWeightsTotal=2.50266e+07 beta=0.02\r\n",
      "Tanaka-inner-loop-iteration=3 MRFWeightsTotal=2.50271e+07 beta=0.02\r\n",
      "Tanaka-inner-loop-iteration=4 MRFWeightsTotal=2.50271e+07 beta=0.02\r\n",
      " CLASS 1 MEAN 38.6487 STDDEV 54.3552 CLASS 2 MEAN 133.662 STDDEV 13.8589 CLASS 3 MEAN 131.578 STDDEV 54.9345\r\n",
      "\r\n",
      " tissue 1 939696\r\n",
      " tissue 2 1.10216e+06\r\n",
      " tissue 3 1.13696e+06\r\n",
      " total tissue 3.17881e+06\r\n",
      "Sun Oct  1 09:50:47 AEDT 2017\r\n",
      "Extrapolating bias field from central region\r\n",
      "Cost is 0.000196475\r\n",
      "Cost is 0.000113022\r\n",
      "Sun Oct  1 09:52:14 AEDT 2017\r\n",
      "Registering to standard space (linear)\r\n",
      "Sun Oct  1 09:52:51 AEDT 2017\r\n",
      "Registering to standard space (non-linear)\r\n",
      "Sun Oct  1 10:03:12 AEDT 2017\r\n",
      "Performing brain extraction (using FNIRT)\r\n",
      "Sun Oct  1 10:03:54 AEDT 2017\r\n",
      "Performing tissue-type segmentation\r\n",
      "Cost is 1.22867e-06\r\n",
      "Cost is 2.86618e-07\r\n",
      "Skull-constrained registration (linear)\r\n",
      "Sun Oct  1 10:07:49 AEDT 2017\r\n",
      "Performing subcortical segmentation\r\n",
      "initial registration 0\r\n",
      "Stage 2: use subcortical mask\r\n",
      "9046\r\n",
      "  File \"/Users/Joshua_hendrikse/Applications/fsl/bin/imglob\", line 78\r\n",
      "    print \"Usage: $0 [-extension/extensions] <list of names>\"\r\n",
      "                                                            ^\r\n",
      "SyntaxError: Missing parentheses in call to 'print'\r\n"
     ]
    }
   ],
   "source": [
    "fsl_anat -i $subdir/MRI/t1_pre_orient.nii.gz"
   ]
  },
  {
   "cell_type": "code",
   "execution_count": 6,
   "metadata": {
    "collapsed": false,
    "scrolled": true
   },
   "outputs": [
    {
     "name": "stdout",
     "output_type": "stream",
     "text": [
      "[1] 10506\r\n"
     ]
    }
   ],
   "source": [
    "fslview $subdir/MRI/t1_pre_orient.anat/T1_to_MNI_nonlin.nii.gz &"
   ]
  },
  {
   "cell_type": "raw",
   "metadata": {},
   "source": [
    "#run brain extraction and view the output. tweak the options (-c, -f) if necessary and repeat"
   ]
  },
  {
   "cell_type": "code",
   "execution_count": 7,
   "metadata": {
    "collapsed": false
   },
   "outputs": [
    {
     "name": "stdout",
     "output_type": "stream",
     "text": [
      "[1]+  Done                    fslview $subdir/MRI/t1_pre_orient.anat/T1_to_MNI_nonlin.nii.gz\r\n",
      "[1] 10584\r\n"
     ]
    }
   ],
   "source": [
    "cp $subdir/MRI/t1_pre_orient.anat/T1_biascorr.nii.gz $subdir/MRI/t1_pre_biascorr.nii.gz\n",
    "bet $subdir/MRI/t1_pre_biascorr.nii.gz $subdir/MRI/t1_pre_biascorr_brain -m -c 85 105 99 -f 0.4\n",
    "fslview $subdir/MRI/t1_pre_biascorr.nii.gz $subdir/MRI/t1_pre_biascorr_brain -l \"Green\" -t 0.6 &"
   ]
  },
  {
   "cell_type": "raw",
   "metadata": {},
   "source": [
    "#This generates the transformation matrix from the full bounding box T1 (including the neck etc) to the autocropped fsl_anat, this is important for the next step, where we get the MRS voxel location from the .rda file and then bring all pre and post voxels into the same t1 space."
   ]
  },
  {
   "cell_type": "code",
   "execution_count": 8,
   "metadata": {
    "collapsed": false
   },
   "outputs": [
    {
     "name": "stdout",
     "output_type": "stream",
     "text": [
      "[1]+  Done                    fslview $subdir/MRI/t1_pre_biascorr.nii.gz $subdir/MRI/t1_pre_biascorr_brain -l \"Green\" -t 0.6\r\n"
     ]
    }
   ],
   "source": [
    "flirt -dof 6 -in $subdir/MRI/t1_pre_orient -ref $subdir/MRI/t1_pre_biascorr -omat $subdir/MRI/t1_pre_orient_to_biascorr.mat -out $subdir/MRI/t1_pre_orient_coreg_biascorr\n",
    "flirt -dof 6 -in $subdir/MRI/t1_post_orient -ref $subdir/MRI/t1_pre_biascorr -omat $subdir/MRI/t1_post_orient_to_biascorr.mat -out $subdir/MRI/t1_post_orient_coreg_biascorr"
   ]
  },
  {
   "cell_type": "code",
   "execution_count": 3,
   "metadata": {
    "collapsed": false
   },
   "outputs": [
    {
     "name": "stdout",
     "output_type": "stream",
     "text": [
      "bash: voxel_mask_from_rda.sh: command not found\n",
      "Image Exception : #22 :: ERROR: Could not open image /MRI/t1_pre_biascorr\n",
      "libc++abi.dylib: terminating with uncaught exception of type RBD_COMMON::BaseException\n",
      "Abort trap: 6\n",
      "bash: voxel_mask_from_rda.sh: command not found\n",
      "Image Exception : #22 :: ERROR: Could not open image /MRI/t1_pre_biascorr\n",
      "libc++abi.dylib: terminating with uncaught exception of type RBD_COMMON::BaseException\n",
      "Abort trap: 6\n",
      "bash: voxel_mask_from_rda.sh: command not found\n",
      "Image Exception : #22 :: ERROR: Could not open image /MRI/t1_pre_biascorr\n",
      "libc++abi.dylib: terminating with uncaught exception of type RBD_COMMON::BaseException\n",
      "Abort trap: 6\n",
      "bash: voxel_mask_from_rda.sh: command not found\n",
      "Image Exception : #22 :: ERROR: Could not open image /MRI/t1_pre_biascorr\n",
      "libc++abi.dylib: terminating with uncaught exception of type RBD_COMMON::BaseException\n",
      "Abort trap: 6\n",
      "bash: voxel_mask_from_rda.sh: command not found\n",
      "Image Exception : #22 :: ERROR: Could not open image /MRI/t1_pre_biascorr\n",
      "libc++abi.dylib: terminating with uncaught exception of type RBD_COMMON::BaseException\n",
      "Abort trap: 6\n",
      "bash: voxel_mask_from_rda.sh: command not found\n",
      "Image Exception : #22 :: ERROR: Could not open image /MRI/t1_pre_biascorr\n",
      "libc++abi.dylib: terminating with uncaught exception of type RBD_COMMON::BaseException\n",
      "Abort trap: 6\n"
     ]
    },
    {
     "ename": "",
     "evalue": "134",
     "output_type": "error",
     "traceback": []
    }
   ],
   "source": [
    "for i in {pre,post};\n",
    "do\n",
    "for j in {HP,PTL,SMA};\n",
    "do\n",
    "voxel_mask_from_rda.sh $subdir/MRI/t1_${i}_orient.nii.gz $subdir/MRI/MRS/${i}/${j}1.rda $subdir/MRI/${i}_${j}1\n",
    "flirt -in $subdir/MRI/${i}_${j}1 -ref $subdir/MRI/t1_pre_biascorr -applyxfm -init $subdir/MRI/t1_${i}_orient_to_biascorr.mat -out $subdir/MRI/${i}_${j}1_reg_biascorr\n",
    "done\n",
    "done\n"
   ]
  },
  {
   "cell_type": "raw",
   "metadata": {},
   "source": [
    "#EYEBALL THE VOXEL OVERLAP IN SUBJECT T1 SPACE (send Richard or Chao a happy/angry email ;)"
   ]
  },
  {
   "cell_type": "code",
   "execution_count": 10,
   "metadata": {
    "collapsed": false
   },
   "outputs": [
    {
     "name": "stdout",
     "output_type": "stream",
     "text": [
      "[1] 11670\r\n",
      "[2] 11673\r\n",
      "[3] 11676\r\n"
     ]
    }
   ],
   "source": [
    "fslview $subdir/MRI/t1_pre_biascorr.nii.gz $subdir/MRI/pre_HP1_reg_biascorr -l \"Yellow\" $subdir/MRI/post_HP1_reg_biascorr -l \"Green\" -t 0.6 &\n",
    "fslview $subdir/MRI/t1_pre_biascorr.nii.gz $subdir/MRI/pre_PTL1_reg_biascorr -l \"Yellow\" $subdir/MRI/post_PTL1_reg_biascorr -l \"Green\" -t 0.6 &\n",
    "fslview $subdir/MRI/t1_pre_biascorr.nii.gz $subdir/MRI/pre_SMA1_reg_biascorr -l \"Yellow\" $subdir/MRI/post_SMA1_reg_biascorr -l \"Green\" -t 0.6 &"
   ]
  },
  {
   "cell_type": "raw",
   "metadata": {},
   "source": [
    "#This step involves segmenting the voxels (pre and post) to get proportion GM, WM, CSF. Also the number of voxels. This will take a while. Have another coffee"
   ]
  },
  {
   "cell_type": "code",
   "execution_count": 11,
   "metadata": {
    "collapsed": false,
    "scrolled": true
   },
   "outputs": [
    {
     "name": "stdout",
     "output_type": "stream",
     "text": [
      "[1]   Done                    fslview $subdir/MRI/t1_pre_biascorr.nii.gz $subdir/MRI/pre_HP1_reg_biascorr -l \"Yellow\" $subdir/MRI/post_HP1_reg_biascorr -l \"Green\" -t 0.6\r\n",
      "[2]-  Done                    fslview $subdir/MRI/t1_pre_biascorr.nii.gz $subdir/MRI/pre_PTL1_reg_biascorr -l \"Yellow\" $subdir/MRI/post_PTL1_reg_biascorr -l \"Green\" -t 0.6\r\n",
      "[3]+  Done                    fslview $subdir/MRI/t1_pre_biascorr.nii.gz $subdir/MRI/pre_SMA1_reg_biascorr -l \"Yellow\" $subdir/MRI/post_SMA1_reg_biascorr -l \"Green\" -t 0.6\r\n",
      "pre_HP\r\n",
      "partial volume segmentation in progress\r\n",
      "grey_percent = 0.412786\r\n",
      "total_vol = 8443.000000\r\n",
      "volume of grey = 3485.152198\r\n",
      "white_percent = 0.537008\r\n",
      "csf_percent = 0.050206\r\n",
      "pre_PTL\r\n",
      "partial volume segmentation in progress\r\n",
      "grey_percent = 0.367099\r\n",
      "total_vol = 8384.000000\r\n",
      "volume of grey = 3077.758016\r\n",
      "white_percent = 0.523479\r\n",
      "csf_percent = 0.109421\r\n",
      "pre_SMA\r\n",
      "partial volume segmentation in progress\r\n",
      "grey_percent = 0.383472\r\n",
      "total_vol = 8396.000000\r\n",
      "volume of grey = 3219.630912\r\n",
      "white_percent = 0.539140\r\n",
      "csf_percent = 0.077388\r\n",
      "post_HP\r\n",
      "partial volume segmentation in progress\r\n",
      "grey_percent = 0.419922\r\n",
      "total_vol = 8516.000000\r\n",
      "volume of grey = 3576.055752\r\n",
      "white_percent = 0.513088\r\n",
      "csf_percent = 0.066989\r\n",
      "post_PTL\r\n",
      "partial volume segmentation in progress\r\n",
      "grey_percent = 0.363232\r\n",
      "total_vol = 8353.000000\r\n",
      "volume of grey = 3034.076896\r\n",
      "white_percent = 0.526775\r\n",
      "csf_percent = 0.109993\r\n",
      "post_SMA\r\n",
      "partial volume segmentation in progress\r\n",
      "grey_percent = 0.369834\r\n",
      "total_vol = 8453.000000\r\n",
      "volume of grey = 3126.206802\r\n",
      "white_percent = 0.536465\r\n",
      "csf_percent = 0.093700\r\n"
     ]
    }
   ],
   "source": [
    "for i in {pre,post};\n",
    "do\n",
    "for j in {HP,PTL,SMA};\n",
    "do\n",
    "echo ${i}_${j}\n",
    "get_voxel_contents.sh $subdir/MRI/t1_pre_biascorr_brain $subdir/MRI/${i}_${j}1_reg_biascorr $subdir/MRI/${i}_${j}1_seg\n",
    "done\n",
    "done"
   ]
  },
  {
   "cell_type": "raw",
   "metadata": {},
   "source": [
    "#Calculate the % voxel overlap"
   ]
  },
  {
   "cell_type": "code",
   "execution_count": 12,
   "metadata": {
    "collapsed": false,
    "scrolled": false
   },
   "outputs": [
    {
     "name": "stdout",
     "output_type": "stream",
     "text": [
      "HP\r\n",
      "9062 9062.000000 \r\n",
      "10150 10150.000000 \r\n",
      "PTL\r\n",
      "9314 9314.000000 \r\n",
      "10470 10470.000000 \r\n",
      "SMA\r\n",
      "9156 9156.000000 \r\n",
      "10048 10048.000000 \r\n"
     ]
    }
   ],
   "source": [
    "for j in {HP,PTL,SMA};\n",
    "do\n",
    "echo ${j}\n",
    "fslmaths $subdir/MRI/pre_${j}1_reg_biascorr -add $subdir/MRI/post_${j}1_reg_biascorr -uthr 2 -thr 1 -bin $subdir/MRI/overlap_${j}1\n",
    "fslstats $subdir/MRI/overlap_${j}1 -V\n",
    "fslstats $subdir/MRI/post_${j}1_reg_biascorr -V\n",
    "done"
   ]
  },
  {
   "cell_type": "code",
   "execution_count": null,
   "metadata": {
    "collapsed": true
   },
   "outputs": [],
   "source": []
  }
 ],
 "metadata": {
  "anaconda-cloud": {},
  "kernelspec": {
   "display_name": "Bash",
   "language": "bash",
   "name": "bash"
  },
  "language_info": {
   "codemirror_mode": "shell",
   "file_extension": ".sh",
   "mimetype": "text/x-sh",
   "name": "bash"
  }
 },
 "nbformat": 4,
 "nbformat_minor": 0
}
