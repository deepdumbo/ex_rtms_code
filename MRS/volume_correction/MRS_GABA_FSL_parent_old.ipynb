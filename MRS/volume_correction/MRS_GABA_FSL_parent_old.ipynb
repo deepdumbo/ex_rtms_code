{
 "cells": [
  {
   "cell_type": "markdown",
   "metadata": {},
   "source": [
    "# MRS_GABA voxel location, overlap, segmentation"
   ]
  },
  {
   "cell_type": "markdown",
   "metadata": {},
   "source": [
    "#Go to study directory, where the data is:"
   ]
  },
  {
   "cell_type": "markdown",
   "metadata": {},
   "source": [
    "# ENTER SUBJECT CODE"
   ]
  },
  {
   "cell_type": "code",
   "execution_count": 1,
   "metadata": {
    "collapsed": false
   },
   "outputs": [
    {
     "name": "stdout",
     "output_type": "stream",
     "text": []
    }
   ],
   "source": [
    "subcode=S7_PK"
   ]
  },
  {
   "cell_type": "code",
   "execution_count": 15,
   "metadata": {
    "collapsed": false
   },
   "outputs": [
    {
     "name": "stdout",
     "output_type": "stream",
     "text": [
      "/Users/joshua_hendrikse/Documents/My_Documents/PhD/Ex_rTMS_study/Data/Inactive\r\n"
     ]
    }
   ],
   "source": [
    "cd /Users/joshua_hendrikse/Documents/My_Documents/PhD/Ex_rTMS_study/Data/Inactive/\n",
    "pwd\n",
    "datadir=/Users/joshua_hendrikse/Documents/My_Documents/PhD/Ex_rTMS_study/Data/Inactive/\n",
    "subdir=$datadir$subcode"
   ]
  },
  {
   "cell_type": "code",
   "execution_count": 17,
   "metadata": {
    "collapsed": false
   },
   "outputs": [
    {
     "name": "stdout",
     "output_type": "stream",
     "text": [
      "Chris Rorden's dcm2nii :: 1JUNE2015 32bit BSD License\r\n",
      "reading preferences file /Users/joshua_hendrikse/.dcm2nii/dcm2nii.ini\r\n",
      "Data will be exported to /Users/joshua_hendrikse/Documents/My_Documents/PhD/Ex_rTMS_study/Data/Inactive/S7_PK/MRI/dicom_series/pre/2_t1_mprage_sag_p2_iso_1_ADNI\r\n",
      "Validating 193 potential DICOM images.\r\n",
      "dcm Error: not a DICOM image: /Users/joshua_hendrikse/Documents/My_Documents/PhD/Ex_rTMS_study/Data/Inactive/S7_PK/MRI/dicom_series/pre/2_t1_mprage_sag_p2_iso_1_ADNI/.DS_Store\r\n",
      "Found 192 DICOM images.\r\n",
      "Converting 192/192  volumes: 1\r\n",
      "0001.dcm->20160624_100857t1mpragesagp2iso1ADNIs003a1001.nii\r\n",
      "For slice timing correction: the slice order is ascending\r\n",
      " brightest voxel was 1348: data will be saved as 16-bit signed integer.\r\n",
      "GZip...20160624_100857t1mpragesagp2iso1ADNIs003a1001.nii.gz\r\n",
      "Reorienting as /Users/joshua_hendrikse/Documents/My_Documents/PhD/Ex_rTMS_study/Data/Inactive/S7_PK/MRI/dicom_series/pre/2_t1_mprage_sag_p2_iso_1_ADNI/o20160624_100857t1mpragesagp2iso1ADNIs003a1001.nii.gz\r\n",
      "GZip...o20160624_100857t1mpragesagp2iso1ADNIs003a1001.nii.gz\r\n",
      "Cropping NIfTI/Analyze image /Users/joshua_hendrikse/Documents/My_Documents/PhD/Ex_rTMS_study/Data/Inactive/S7_PK/MRI/dicom_series/pre/2_t1_mprage_sag_p2_iso_1_ADNI/o20160624_100857t1mpragesagp2iso1ADNIs003a1001.nii.gz\r\n",
      "GZip...co20160624_100857t1mpragesagp2iso1ADNIs003a1001.nii.gz\r\n",
      "Chris Rorden's dcm2nii :: 1JUNE2015 32bit BSD License\r\n",
      "reading preferences file /Users/joshua_hendrikse/.dcm2nii/dcm2nii.ini\r\n",
      "Data will be exported to /Users/joshua_hendrikse/Documents/My_Documents/PhD/Ex_rTMS_study/Data/Inactive/S7_PK/MRI/dicom_series/post/2_t1_mprage_sag_p2_iso_1_ADNI\r\n",
      "Validating 193 potential DICOM images.\r\n",
      "dcm Error: not a DICOM image: /Users/joshua_hendrikse/Documents/My_Documents/PhD/Ex_rTMS_study/Data/Inactive/S7_PK/MRI/dicom_series/post/2_t1_mprage_sag_p2_iso_1_ADNI/.DS_Store\r\n",
      "Found 192 DICOM images.\r\n",
      "Converting 192/192  volumes: 1\r\n",
      "0001.dcm->20160701_160252t1mpragesagp2iso1ADNIs002a1001.nii\r\n",
      "For slice timing correction: the slice order is ascending\r\n",
      " brightest voxel was 1154: data will be saved as 16-bit signed integer.\r\n",
      "GZip...20160701_160252t1mpragesagp2iso1ADNIs002a1001.nii.gz\r\n",
      "Reorienting as /Users/joshua_hendrikse/Documents/My_Documents/PhD/Ex_rTMS_study/Data/Inactive/S7_PK/MRI/dicom_series/post/2_t1_mprage_sag_p2_iso_1_ADNI/o20160701_160252t1mpragesagp2iso1ADNIs002a1001.nii.gz\r\n",
      "GZip...o20160701_160252t1mpragesagp2iso1ADNIs002a1001.nii.gz\r\n",
      "Cropping NIfTI/Analyze image /Users/joshua_hendrikse/Documents/My_Documents/PhD/Ex_rTMS_study/Data/Inactive/S7_PK/MRI/dicom_series/post/2_t1_mprage_sag_p2_iso_1_ADNI/o20160701_160252t1mpragesagp2iso1ADNIs002a1001.nii.gz\r\n",
      "GZip...co20160701_160252t1mpragesagp2iso1ADNIs002a1001.nii.gz\r\n"
     ]
    }
   ],
   "source": [
    "for i in {pre,post};\n",
    "do \n",
    "/Applications/dcm2nii $subdir/MRI/dicom_series/$i/*mprage*ADNI/0001.dcm\n",
    "cp $subdir/MRI/dicom_series/$i/*mprage*ADNI/2*mpragesagp2iso1ADNI*.nii.gz $subdir/MRI/t1_$i.nii.gz\n",
    "done"
   ]
  },
  {
   "cell_type": "raw",
   "metadata": {},
   "source": [
    "#T1 images were acquired in sagittal. Make them look nice in fslview ;)"
   ]
  },
  {
   "cell_type": "code",
   "execution_count": 18,
   "metadata": {
    "collapsed": false,
    "scrolled": true
   },
   "outputs": [
    {
     "name": "stdout",
     "output_type": "stream",
     "text": []
    }
   ],
   "source": [
    "fslreorient2std $subdir/MRI/t1_pre.nii.gz $subdir/MRI/t1_pre_orient\n",
    "fslreorient2std $subdir/MRI/t1_post.nii.gz $subdir/MRI/t1_post_orient"
   ]
  },
  {
   "cell_type": "raw",
   "metadata": {},
   "source": [
    "#this will run all sorts of fsl goodies (biascorr, autocrop, segment, subcort segment). TAKES A WHILE have a coffee."
   ]
  },
  {
   "cell_type": "code",
   "execution_count": 1,
   "metadata": {
    "collapsed": false
   },
   "outputs": [
    {
     "name": "stdout",
     "output_type": "stream",
     "text": [
      "mkdir: /MRI: No such file or directory\r\n"
     ]
    }
   ],
   "source": [
    "fsl_anat -i $subdir/MRI/t1_pre_orient.nii.gz"
   ]
  },
  {
   "cell_type": "code",
   "execution_count": 2,
   "metadata": {
    "collapsed": false
   },
   "outputs": [
    {
     "name": "stdout",
     "output_type": "stream",
     "text": [
      "[1] 14369\r\n"
     ]
    }
   ],
   "source": [
    "fslview $subdir/MRI/t1_pre_orient.anat/T1_to_MNI_nonlin.nii.gz &"
   ]
  },
  {
   "cell_type": "raw",
   "metadata": {},
   "source": [
    "#run brain extraction and view the output. tweak the options (-c, -f) if necessary and repeat"
   ]
  },
  {
   "cell_type": "code",
   "execution_count": 21,
   "metadata": {
    "collapsed": false
   },
   "outputs": [
    {
     "name": "stdout",
     "output_type": "stream",
     "text": [
      "[1]+  Done                    fslview $subdir/MRI/t1_pre_orient.anat/T1_to_MNI_nonlin.nii.gz\r\n",
      "[1] 26444\r\n"
     ]
    }
   ],
   "source": [
    "cp $subdir/MRI/t1_pre_orient.anat/T1_biascorr.nii.gz $subdir/MRI/t1_pre_biascorr.nii.gz\n",
    "bet $subdir/MRI/t1_pre_biascorr.nii.gz $subdir/MRI/t1_pre_biascorr_brain -m -c 85 105 99 -f 0.35\n",
    "fslview $subdir/MRI/t1_pre_biascorr.nii.gz $subdir/MRI/t1_pre_biascorr_brain -l \"Green\" -t 0.6 &"
   ]
  },
  {
   "cell_type": "raw",
   "metadata": {},
   "source": [
    "#This generates the transformation matrix from the full bounding box T1 (including the neck etc) to the autocropped fsl_anat, this is important for the next step, where we get the MRS voxel location from the .rda file and then bring all pre and post voxels into the same t1 space."
   ]
  },
  {
   "cell_type": "code",
   "execution_count": 8,
   "metadata": {
    "collapsed": false
   },
   "outputs": [
    {
     "name": "stdout",
     "output_type": "stream",
     "text": []
    }
   ],
   "source": [
    "flirt -dof 6 -in $subdir/MRI/t1_pre_orient -ref $subdir/MRI/t1_pre_biascorr -omat $subdir/MRI/t1_pre_orient_to_biascorr.mat -out $subdir/MRI/t1_pre_orient_coreg_biascorr\n",
    "flirt -dof 6 -in $subdir/MRI/t1_post_orient -ref $subdir/MRI/t1_pre_biascorr -omat $subdir/MRI/t1_post_orient_to_biascorr.mat -out $subdir/MRI/t1_post_orient_coreg_biascorr"
   ]
  },
  {
   "cell_type": "code",
   "execution_count": 9,
   "metadata": {
    "collapsed": false
   },
   "outputs": [
    {
     "name": "stdout",
     "output_type": "stream",
     "text": [
      "POS= 16.870430 25.255893 5.905695\r\n",
      "VOX= 20.000000 15.000000 30.000000\r\n",
      "ROW= -0.999399 0.030390 -0.016643\r\n",
      "COL= 0.025014 0.300422 -0.953478\r\n",
      "1.000000 1.000000 1.000000\r\n",
      "ZED= -.0239762 -.9533212 .3010015\r\n",
      "[2]+  Done                    fslview $subdir/MRI/t1_pre_biascorr.nii.gz $subdir/MRI/t1_pre_biascorr_brain -l \"Green\" -t 0.6\r\n",
      "POS= 31.566064 54.809532 38.505160\r\n",
      "VOX= 25.000000 19.000000 19.000000\r\n",
      "ROW= -0.392499 0.634925 0.665444\r\n",
      "COL= -0.226980 0.634259 -0.739050\r\n",
      "1.000000 1.000000 1.000000\r\n",
      "ZED= -.8913051 -.4411187 .1048308\r\n",
      "[1]+  Done                    fslview $subdir/MRI/t1_pre_orient.anat/T1_to_MNI_nonlin.nii.gz\r\n",
      "POS= -1.479883 -10.040444 65.052219\r\n",
      "VOX= 25.000000 19.000000 19.000000\r\n",
      "ROW= -0.997684 -0.058926 -0.033987\r\n",
      "COL= 0.019636 0.228883 -0.973256\r\n",
      "1.000000 1.000000 1.000000\r\n",
      "ZED= .0651290 -.9716692 .2271959\r\n",
      "POS= 19.727922 27.237887 -23.410288\r\n",
      "VOX= 20.000000 15.000000 30.000000\r\n",
      "ROW= -0.993270 0.114581 0.016894\r\n",
      "COL= 0.012515 0.251192 -0.967856\r\n",
      "1.000000 1.000000 1.000000\r\n",
      "ZED= -.1151415 -.9611309 .2509353\r\n",
      "POS= 37.936997 64.579117 9.441410\r\n",
      "VOX= 25.000000 19.000000 19.000000\r\n",
      "ROW= -0.276460 0.726864 0.628679\r\n",
      "COL= -0.168869 0.607254 -0.776354\r\n",
      "1.000000 1.000000 1.000000\r\n",
      "ZED= -.9460715 -.3207951 .0451367\r\n",
      "POS= 3.002285 -7.304241 36.206628\r\n",
      "VOX= 25.000000 19.000000 19.000000\r\n",
      "ROW= -0.997508 -0.062601 0.032527\r\n",
      "COL= -0.052965 0.359996 -0.931449\r\n",
      "1.000000 1.000000 1.000000\r\n",
      "ZED= .0466001 -.9308505 .3624144\r\n"
     ]
    }
   ],
   "source": [
    "for i in {pre,post};\n",
    "do\n",
    "for j in {HP,PTL,SMA};\n",
    "do\n",
    "voxel_mask_from_rda.sh $subdir/MRI/t1_${i}_orient.nii.gz $subdir/MRI/MRS/${i}/${j}1.rda $subdir/MRI/${i}_${j}1\n",
    "flirt -in $subdir/MRI/${i}_${j}1 -ref $subdir/MRI/t1_pre_biascorr -applyxfm -init $subdir/MRI/t1_${i}_orient_to_biascorr.mat -out $subdir/MRI/${i}_${j}1_reg_biascorr\n",
    "done\n",
    "done\n"
   ]
  },
  {
   "cell_type": "raw",
   "metadata": {},
   "source": [
    "#EYEBALL THE VOXEL OVERLAP IN SUBJECT T1 SPACE (send Richard or Chao a happy/angry email ;)"
   ]
  },
  {
   "cell_type": "code",
   "execution_count": 15,
   "metadata": {
    "collapsed": false
   },
   "outputs": [
    {
     "name": "stdout",
     "output_type": "stream",
     "text": [
      "[1] 14894\r\n",
      "[2] 14897\r\n",
      "[3] 14900\r\n"
     ]
    }
   ],
   "source": [
    "fslview $subdir/MRI/t1_pre_biascorr.nii.gz $subdir/MRI/pre_HP1_reg_biascorr -l \"Yellow\" $subdir/MRI/post_HP1_reg_biascorr -l \"Green\" -t 0.6 &\n",
    "fslview $subdir/MRI/t1_pre_biascorr.nii.gz $subdir/MRI/pre_PTL1_reg_biascorr -l \"Yellow\" $subdir/MRI/post_PTL1_reg_biascorr -l \"Green\" -t 0.6 &\n",
    "fslview $subdir/MRI/t1_pre_biascorr.nii.gz $subdir/MRI/pre_SMA1_reg_biascorr -l \"Yellow\" $subdir/MRI/post_SMA1_reg_biascorr -l \"Green\" -t 0.6 &"
   ]
  },
  {
   "cell_type": "raw",
   "metadata": {},
   "source": [
    "#This step involves segmenting the voxels (pre and post) to get proportion GM, WM, CSF. Also the number of voxels. This will take a while. Have another coffee"
   ]
  },
  {
   "cell_type": "code",
   "execution_count": 11,
   "metadata": {
    "collapsed": false
   },
   "outputs": [
    {
     "name": "stdout",
     "output_type": "stream",
     "text": [
      "pre_HP\r\n",
      "partial volume segmentation in progress\r\n",
      "grey_percent = 0.375858\r\n",
      "total_vol = 8342.000000\r\n",
      "volume of grey = 3135.407436\r\n",
      "white_percent = 0.531415\r\n",
      "csf_percent = 0.092727\r\n",
      "pre_PTL\r\n",
      "partial volume segmentation in progress\r\n",
      "grey_percent = 0.372395\r\n",
      "total_vol = 8381.000000\r\n",
      "volume of grey = 3121.042495\r\n",
      "white_percent = 0.531021\r\n",
      "csf_percent = 0.096584\r\n",
      "[1]   Done                    fslview $subdir/MRI/t1_pre_biascorr.nii.gz $subdir/MRI/pre_HP1_reg_biascorr -l \"Yellow\" $subdir/MRI/post_HP1_reg_biascorr -l \"Green\" -t 0.6\r\n",
      "[2]-  Done                    fslview $subdir/MRI/t1_pre_biascorr.nii.gz $subdir/MRI/pre_PTL1_reg_biascorr -l \"Yellow\" $subdir/MRI/post_PTL1_reg_biascorr -l \"Green\" -t 0.6\r\n",
      "[3]+  Done                    fslview $subdir/MRI/t1_pre_biascorr.nii.gz $subdir/MRI/pre_SMA1_reg_biascorr -l \"Yellow\" $subdir/MRI/post_SMA1_reg_biascorr -l \"Green\" -t 0.6\r\n",
      "pre_SMA\r\n",
      "partial volume segmentation in progress\r\n",
      "grey_percent = 0.323168\r\n",
      "total_vol = 8375.000000\r\n",
      "volume of grey = 2706.532000\r\n",
      "white_percent = 0.540121\r\n",
      "csf_percent = 0.133727\r\n",
      "post_HP\r\n",
      "partial volume segmentation in progress\r\n",
      "grey_percent = 0.387668\r\n",
      "total_vol = 8248.000000\r\n",
      "volume of grey = 3197.485664\r\n",
      "white_percent = 0.508263\r\n",
      "csf_percent = 0.104069\r\n",
      "post_PTL\r\n",
      "partial volume segmentation in progress\r\n",
      "grey_percent = 0.391702\r\n",
      "total_vol = 8376.000000\r\n",
      "volume of grey = 3280.895952\r\n",
      "white_percent = 0.489533\r\n",
      "csf_percent = 0.118764\r\n",
      "post_SMA\r\n",
      "partial volume segmentation in progress\r\n",
      "grey_percent = 0.361188\r\n",
      "total_vol = 8276.000000\r\n",
      "volume of grey = 2989.191888\r\n",
      "white_percent = 0.526833\r\n",
      "csf_percent = 0.111254\r\n"
     ]
    }
   ],
   "source": [
    "for i in {pre,post};\n",
    "do\n",
    "for j in {HP,PTL,SMA};\n",
    "do\n",
    "echo ${i}_${j}\n",
    "get_voxel_contents.sh $subdir/MRI/t1_pre_biascorr_brain $subdir/MRI/${i}_${j}1_reg_biascorr $subdir/MRI/${i}_${j}1_seg\n",
    "done\n",
    "done"
   ]
  },
  {
   "cell_type": "code",
   "execution_count": null,
   "metadata": {
    "collapsed": true
   },
   "outputs": [],
   "source": []
  },
  {
   "cell_type": "raw",
   "metadata": {},
   "source": [
    "#Calculate the % voxel overlap"
   ]
  },
  {
   "cell_type": "code",
   "execution_count": 12,
   "metadata": {
    "collapsed": false
   },
   "outputs": [
    {
     "name": "stdout",
     "output_type": "stream",
     "text": [
      "HP\r\n",
      "9466 9466.000000 \r\n",
      "10081 10081.000000 \r\n",
      "PTL\r\n",
      "9834 9834.000000 \r\n",
      "10258 10258.000000 \r\n",
      "SMA\r\n",
      "11010 11010.000000 \r\n",
      "9895 9895.000000 \r\n"
     ]
    }
   ],
   "source": [
    "for j in {HP,PTL,SMA};\n",
    "do\n",
    "echo ${j}\n",
    "fslmaths $subdir/MRI/pre_${j}1_reg_biascorr -add $subdir/MRI/post_${j}1_reg_biascorr -uthr 2 -thr 1 -bin $subdir/MRI/overlap_${j}1\n",
    "fslstats $subdir/MRI/overlap_${j}1 -V\n",
    "fslstats $subdir/MRI/post_${j}1_reg_biascorr -V\n",
    "done"
   ]
  },
  {
   "cell_type": "code",
   "execution_count": null,
   "metadata": {
    "collapsed": true
   },
   "outputs": [],
   "source": []
  }
 ],
 "metadata": {
  "anaconda-cloud": {},
  "kernelspec": {
   "display_name": "Bash",
   "language": "bash",
   "name": "bash"
  },
  "language_info": {
   "codemirror_mode": "shell",
   "file_extension": ".sh",
   "mimetype": "text/x-sh",
   "name": "bash"
  }
 },
 "nbformat": 4,
 "nbformat_minor": 0
}
